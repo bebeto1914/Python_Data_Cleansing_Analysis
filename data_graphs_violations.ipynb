{
 "cells": [
  {
   "cell_type": "code",
   "execution_count": null,
   "metadata": {},
   "outputs": [],
   "source": [
    "from tkinter import*\n",
    "import matplotlib.pyplot as plt\n",
    "import numpy as np\n",
    "import pandas as pd\n",
    "from pandas import Series, DataFrame\n",
    "import seaborn as sns\n",
    "%matplotlib"
   ]
  },
  {
   "cell_type": "code",
   "execution_count": null,
   "metadata": {},
   "outputs": [],
   "source": [
    "def graph(df_inspections,df_violations):\n",
    "    df_inspections2 = df_inspections[df_inspections.program_status != \"INACTIVE\"]\n",
    "    df_inspections3 = df_inspections2[['facility_id', 'serial_number']].copy()\n",
    "    df_violations3 = pd.merge(df_inspections3, df_violations, on='serial_number')\n",
    "    \n",
    "    violation_descriptions = []\n",
    "    facilities = []\n",
    "\n",
    "    for violation in (df_violations3['violation_description'].unique()):\n",
    "        each_violation = df_violations3.loc[df_violations3['violation_description'] == violation]\n",
    "        violation_descriptions.append(violation)\n",
    "        number_of_facilities = each_violation['facility_id'].unique()\n",
    "        facilities.append(len(number_of_facilities))\n",
    "\n",
    "    y_pos = np.arange(len(violation_descriptions))\n",
    "    plt.barh(y_pos, facilities, align='center', alpha=1)\n",
    "    plt.yticks(y_pos, violation_descriptions)\n",
    "    plt.xlabel('Number of establishments')\n",
    "    plt.title('Number of establishments that have committed each violation')\n",
    "    \n",
    "    plt.rc('xtick', labelsize=8)\n",
    "    plt.rc('ytick', labelsize=8)\n",
    "    \n",
    "    plt.show()\n",
    "    \n",
    "    #configure subplots-tight layout for a better view\n",
    "    \n",
    "    #zoom to rectangle for a specific part of the graph projection"
   ]
  },
  {
   "cell_type": "code",
   "execution_count": null,
   "metadata": {},
   "outputs": [],
   "source": [
    "def graph2(df_inspections,df_violations):\n",
    "    df_inspections2 = df_inspections[df_inspections.program_status != \"INACTIVE\"]\n",
    "    df_inspections3 = df_inspections2[['facility_id', 'serial_number', 'facility_zip']].copy()\n",
    "    df_violations4 = pd.merge(df_inspections3, df_violations, on='serial_number')\n",
    "    \n",
    "    fac_zip = []\n",
    "    fac_id = []\n",
    "\n",
    "    vcounts = df_violations4['facility_id'].value_counts()\n",
    "    vcounts = vcounts.to_frame().reset_index()\n",
    "    vcounts.rename(columns={'index': 'facility_id', 'facility_id': 'counts'}, inplace=True)\n",
    "    f_vcounts = vcounts[0:100]    \n",
    "    \n",
    "    for facid in (f_vcounts['facility_id'].unique()):\n",
    "        each_id = df_violations4.loc[df_violations4['facility_id'] == facid]\n",
    "        fac_id.append(facid)\n",
    "        faczip = each_id['facility_zip'].iloc[0]\n",
    "        fac_zip.append(faczip)\n",
    "        \n",
    "\n",
    "    f_vcounts.insert(2, 'facility_zip', fac_zip)\n",
    "    \n",
    "    zipcounts = df_violations4['facility_zip'].value_counts()\n",
    "    zipcounts = zipcounts.to_frame().reset_index()\n",
    "    zipcounts.rename(columns={'index': 'facility_zip', 'facility_zip': 'counts'}, inplace=True)\n",
    "    f_zipcounts = zipcounts[0:100]\n",
    "    \n",
    "    plot = sns.catplot(x ='facility_zip', y ='counts', data = f_zipcounts)\n",
    "    plot.set_xticklabels(rotation=90)\n",
    "    plt.subplots_adjust(top=0.95)\n",
    "    plot.fig.suptitle('Facility Zip Codes, with the largest amount of violations (Top 100)')\n",
    "    plt.grid()\n",
    "    plt.show\n",
    "    \n",
    "    plot2 = sns.catplot(x ='facility_zip', y ='counts', data = f_vcounts)\n",
    "    plot2.set_xticklabels(rotation=90)\n",
    "    plt.subplots_adjust(top=0.95)\n",
    "    plot2.fig.suptitle('Facility Zip Codes of the Vendors that have committed the largest amount of violations (Top 100)')\n",
    "    plt.grid()\n",
    "    plt.show\n",
    "    \n",
    "    plot3 = sns.catplot(x ='facility_id', y ='counts', data = f_vcounts)\n",
    "    plot3.set_xticklabels(rotation=90)\n",
    "    plt.subplots_adjust(top=0.95)\n",
    "    plot3.fig.suptitle('Vendors that have committed the largest amount of violations (Top 100)')\n",
    "    plt.grid()\n",
    "    plt.show"
   ]
  },
  {
   "cell_type": "code",
   "execution_count": null,
   "metadata": {},
   "outputs": [],
   "source": []
  }
 ],
 "metadata": {
  "kernelspec": {
   "display_name": "Python 3",
   "language": "python",
   "name": "python3"
  },
  "language_info": {
   "codemirror_mode": {
    "name": "ipython",
    "version": 3
   },
   "file_extension": ".py",
   "mimetype": "text/x-python",
   "name": "python",
   "nbconvert_exporter": "python",
   "pygments_lexer": "ipython3",
   "version": "3.8.3"
  }
 },
 "nbformat": 4,
 "nbformat_minor": 4
}
