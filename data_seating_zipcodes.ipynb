{
 "cells": [
  {
   "cell_type": "code",
   "execution_count": null,
   "metadata": {},
   "outputs": [],
   "source": [
    "import pandas as pd\n",
    "import numpy as np\n",
    "from pandas import Series, DataFrame\n",
    "import datetime as dt"
   ]
  },
  {
   "cell_type": "code",
   "execution_count": null,
   "metadata": {},
   "outputs": [],
   "source": [
    "def seating(df):\n",
    "    #activity_date column conversion from pd object to datetime64[ns] data type\n",
    "    df['activity_date'] = pd.to_datetime(df['activity_date'])\n",
    "    \n",
    "    #Dropping the rows that have 'inactive' status in the program_status column\n",
    "    df = df[df.program_status != \"INACTIVE\"]\n",
    "    \n",
    "    seating = df['seating_number_type'].unique()\n",
    "    \n",
    "    return seating"
   ]
  },
  {
   "cell_type": "code",
   "execution_count": null,
   "metadata": {},
   "outputs": [],
   "source": [
    "def zip_codes(df):\n",
    "    #activity_date column conversion from pd object to datetime64[ns] data type\n",
    "    df['activity_date'] = pd.to_datetime(df['activity_date'])\n",
    "    \n",
    "    #Dropping the rows that have 'inactive' status in the program_status column\n",
    "    df = df[df.program_status != \"INACTIVE\"]\n",
    "    \n",
    "    zip_codes = df['facility_zip'].unique()\n",
    "    \n",
    "    return zip_codes"
   ]
  }
 ],
 "metadata": {
  "kernelspec": {
   "display_name": "Python 3",
   "language": "python",
   "name": "python3"
  },
  "language_info": {
   "codemirror_mode": {
    "name": "ipython",
    "version": 3
   },
   "file_extension": ".py",
   "mimetype": "text/x-python",
   "name": "python",
   "nbconvert_exporter": "python",
   "pygments_lexer": "ipython3",
   "version": "3.8.3"
  }
 },
 "nbformat": 4,
 "nbformat_minor": 4
}
