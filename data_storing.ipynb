{
 "cells": [
  {
   "cell_type": "code",
   "execution_count": null,
   "metadata": {},
   "outputs": [],
   "source": [
    "import csv\n",
    "import json"
   ]
  },
  {
   "cell_type": "code",
   "execution_count": null,
   "metadata": {},
   "outputs": [],
   "source": [
    "#Function to store the cleaned DataFrame in a json file\n",
    "def data_store_inventory(df):\n",
    "    \n",
    "    result = df.to_json(orient=\"records\")\n",
    "    parsed = json.loads(result)\n",
    "    \n",
    "    with open(\"Inventory_json.json\",\"w\") as json_file:\n",
    "        json.dump(parsed, json_file, indent=4)"
   ]
  },
  {
   "cell_type": "code",
   "execution_count": null,
   "metadata": {},
   "outputs": [],
   "source": [
    "#Function to store the cleaned DataFrame in a json file\n",
    "def data_store_inspections(df):\n",
    "    \n",
    "    result = df.to_json(orient=\"records\")\n",
    "    parsed = json.loads(result)\n",
    "    \n",
    "    with open(\"Inspections_json.json\",\"w\") as json_file:\n",
    "        json.dump(parsed, json_file, indent=4)"
   ]
  },
  {
   "cell_type": "code",
   "execution_count": null,
   "metadata": {},
   "outputs": [],
   "source": [
    "#Function to store the cleaned DataFrame in a json file\n",
    "def data_store_violations(df):\n",
    "    \n",
    "    result = df.to_json(orient=\"records\")\n",
    "    parsed = json.loads(result)\n",
    "    \n",
    "    with open(\"Violations_json.json\",\"w\") as json_file:\n",
    "        json.dump(parsed, json_file, indent=4)"
   ]
  }
 ],
 "metadata": {
  "kernelspec": {
   "display_name": "Python 3",
   "language": "python",
   "name": "python3"
  },
  "language_info": {
   "codemirror_mode": {
    "name": "ipython",
    "version": 3
   },
   "file_extension": ".py",
   "mimetype": "text/x-python",
   "name": "python",
   "nbconvert_exporter": "python",
   "pygments_lexer": "ipython3",
   "version": "3.8.3"
  }
 },
 "nbformat": 4,
 "nbformat_minor": 4
}
